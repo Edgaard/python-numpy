{
 "cells": [
  {
   "cell_type": "code",
   "execution_count": 39,
   "metadata": {},
   "outputs": [],
   "source": [
    "#-------------------numpy is basically for scientifc fucntions:-------------------#\n",
    "#numpy stores all sorts of data:\n",
    "#1)1-D array\n",
    "#2)2-D array\n",
    "#3)3-D array\n",
    "#how is the list different from Numpy:\n",
    "#list[]->They are vey slow\n",
    "#numpy ->it is very fast\n",
    "#-------------------------code basic:-------------------#\n",
    "#3 main benfit of numpy array over the python list[]\n",
    "#1)Less memory\n",
    "#2)Fast\n",
    "#3)Convinient\n"
   ]
  },
  {
   "cell_type": "code",
   "execution_count": null,
   "metadata": {},
   "outputs": [],
   "source": [
    "#-----------------------------------Zip functuion in example:------------------#\n",
    "#l_1=[1,2,3]\n",
    "#l_2=[4,5,6]\n",
    "#l=zip(l_1,l_2)\n",
    "#for i,j in l:\n",
    "    #print(i)\n",
    "    #print(j)"
   ]
  },
  {
   "cell_type": "code",
   "execution_count": 2,
   "metadata": {},
   "outputs": [],
   "source": [
    "import numpy as np\n",
    "import time"
   ]
  },
  {
   "cell_type": "code",
   "execution_count": 3,
   "metadata": {},
   "outputs": [
    {
     "name": "stdout",
     "output_type": "stream",
     "text": [
      "1\n",
      "2\n",
      "3\n"
     ]
    }
   ],
   "source": [
    "np_array=np.array([1,2,3])\n",
    "for i in np_array:\n",
    "    print(i)"
   ]
  },
  {
   "cell_type": "code",
   "execution_count": 4,
   "metadata": {},
   "outputs": [
    {
     "name": "stdout",
     "output_type": "stream",
     "text": [
      "28\n"
     ]
    },
    {
     "data": {
      "text/plain": [
       "4"
      ]
     },
     "execution_count": 4,
     "metadata": {},
     "output_type": "execute_result"
    }
   ],
   "source": [
    "a=range(1000)\n",
    "import sys\n",
    "print(sys.getsizeof(3))\n",
    "b=np.arange(1000)\n",
    "b.itemsize"
   ]
  },
  {
   "cell_type": "code",
   "execution_count": 29,
   "metadata": {},
   "outputs": [
    {
     "data": {
      "text/plain": [
       "8.062362670898438"
      ]
     },
     "execution_count": 29,
     "metadata": {},
     "output_type": "execute_result"
    }
   ],
   "source": [
    "l_1=range(10000)\n",
    "l_2=range(10000)\n",
    "start_time=time.time()\n",
    "results_l=[(i+j) for i,j in zip(l_1,l_2)]\n",
    "l_time=(time.time()-start_time)\n",
    "l_time*1000"
   ]
  },
  {
   "cell_type": "code",
   "execution_count": 36,
   "metadata": {},
   "outputs": [
    {
     "data": {
      "text/plain": [
       "0.0"
      ]
     },
     "execution_count": 36,
     "metadata": {},
     "output_type": "execute_result"
    }
   ],
   "source": [
    "n_1=np.arange(10000)\n",
    "n_2=np.arange(10000)\n",
    "n_start_time=time.time()\n",
    "n_results=(n_1+n_2)#it add simualtenously for each elemnst it takes (elemnt 1(n_1)+element 2(n_2))\n",
    "n_time=(time.time()-n_start_time)\n",
    "n_time*1000"
   ]
  },
  {
   "cell_type": "code",
   "execution_count": 53,
   "metadata": {},
   "outputs": [
    {
     "data": {
      "text/plain": [
       "array([5, 7, 9])"
      ]
     },
     "execution_count": 53,
     "metadata": {},
     "output_type": "execute_result"
    }
   ],
   "source": [
    "#------------------the operation in numpy is doing each and each elements:------------------#\n",
    "a1=np.array([1,2,3])\n",
    "a2=np.array([4,5,6])\n",
    "a_r=(a1+a2)\n",
    "a_r \n"
   ]
  },
  {
   "cell_type": "code",
   "execution_count": 56,
   "metadata": {},
   "outputs": [
    {
     "name": "stdout",
     "output_type": "stream",
     "text": [
      "5\n",
      "7\n",
      "9\n",
      "[5, 7, 9]\n"
     ]
    }
   ],
   "source": [
    "b1=[1,2,3]\n",
    "b2=[4,5,6]\n",
    "b_r=[]\n",
    "print(b1[0]+b2[0])\n",
    "print(b1[1]+b2[1])\n",
    "print(b1[2]+b2[2])\n",
    "for i in range(0,len(b1)):\n",
    "    b_r.append(b1[i]+b2[i])\n",
    "print(b_r)"
   ]
  },
  {
   "cell_type": "code",
   "execution_count": null,
   "metadata": {},
   "outputs": [],
   "source": []
  },
  {
   "cell_type": "code",
   "execution_count": null,
   "metadata": {},
   "outputs": [],
   "source": []
  }
 ],
 "metadata": {
  "kernelspec": {
   "display_name": "Python 3",
   "language": "python",
   "name": "python3"
  },
  "language_info": {
   "codemirror_mode": {
    "name": "ipython",
    "version": 3
   },
   "file_extension": ".py",
   "mimetype": "text/x-python",
   "name": "python",
   "nbconvert_exporter": "python",
   "pygments_lexer": "ipython3",
   "version": "3.7.6"
  }
 },
 "nbformat": 4,
 "nbformat_minor": 4
}
