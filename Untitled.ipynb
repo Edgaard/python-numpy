{
 "cells": [
  {
   "cell_type": "markdown",
   "metadata": {},
   "source": [
    "# In numpy and pandas axis=1(columns) and axis=0(rows)"
   ]
  },
  {
   "cell_type": "code",
   "execution_count": 28,
   "metadata": {},
   "outputs": [],
   "source": [
    "import numpy as np"
   ]
  },
  {
   "cell_type": "code",
   "execution_count": 65,
   "metadata": {},
   "outputs": [
    {
     "data": {
      "text/plain": [
       "array([[1, 2, 3],\n",
       "       [4, 5, 6],\n",
       "       [7, 8, 9]])"
      ]
     },
     "execution_count": 65,
     "metadata": {},
     "output_type": "execute_result"
    }
   ],
   "source": [
    "a=np.array([[1,2,3],[4,5,6],[7,8,9]])#-> creating n- dimensional array with 3*3 matrix\n",
    "a"
   ]
  },
  {
   "cell_type": "code",
   "execution_count": 133,
   "metadata": {},
   "outputs": [
    {
     "data": {
      "text/plain": [
       "array([1, 2, 3, 4, 5, 6, 7, 8, 9])"
      ]
     },
     "execution_count": 133,
     "metadata": {},
     "output_type": "execute_result"
    }
   ],
   "source": [
    "#---------------------basic in build Function:-----------------#\n",
    "\n",
    "a.ndim#->it gives the dimension size of an array ie. that is how many list in list are envoleved\n",
    "a.itemsize#-> the particlaur fucntion give size of an element inside the np array\n",
    "a.dtype#-> to check the type of an element\n",
    "a.size#->it gives the number of elemsnts in an array\n",
    "a.shape#->it gives the number of rows and columns used in matrix\n",
    "a.ravel()#->the partiucalr fucntion convert any dimension array into one dimension by returing new array"
   ]
  },
  {
   "cell_type": "code",
   "execution_count": 95,
   "metadata": {},
   "outputs": [
    {
     "data": {
      "text/plain": [
       "numpy.complex128"
      ]
     },
     "execution_count": 95,
     "metadata": {},
     "output_type": "execute_result"
    }
   ],
   "source": [
    "#----------using complex number:--------------#\n",
    "b=np.array([[1,2,3],[4,5,6],[7,8,9]],dtype=complex)\n",
    "type(b[0][0])"
   ]
  },
  {
   "cell_type": "code",
   "execution_count": 104,
   "metadata": {},
   "outputs": [
    {
     "data": {
      "text/plain": [
       "array([[1., 1., 1.],\n",
       "       [1., 1., 1.],\n",
       "       [1., 1., 1.]])"
      ]
     },
     "execution_count": 104,
     "metadata": {},
     "output_type": "execute_result"
    }
   ],
   "source": [
    "#--------------------craeting zeros and ones matrix:-----------------------#\n",
    "np.zeros((3,3))#->creating zeros matrix as 3*3\n",
    "np.ones((3,3))#->craeting ones matrix as 3*3"
   ]
  },
  {
   "cell_type": "code",
   "execution_count": 111,
   "metadata": {},
   "outputs": [
    {
     "data": {
      "text/plain": [
       "array([1, 3, 5, 7, 9])"
      ]
     },
     "execution_count": 111,
     "metadata": {},
     "output_type": "execute_result"
    }
   ],
   "source": [
    "#------------fucntion for random numbers in numpy:----------------#\n",
    "np.arange(1,10)#-> it creates number from 1 to (10-1) excluding the last number\n",
    "np.arange(1,10,2)#->it creates number from 1 to 10 by the steps of two number "
   ]
  },
  {
   "cell_type": "code",
   "execution_count": 122,
   "metadata": {},
   "outputs": [
    {
     "data": {
      "text/plain": [
       "array([1.        , 1.44444444, 1.88888889, 2.33333333, 2.77777778,\n",
       "       3.22222222, 3.66666667, 4.11111111, 4.55555556, 5.        ])"
      ]
     },
     "execution_count": 122,
     "metadata": {},
     "output_type": "execute_result"
    }
   ],
   "source": [
    "#-----------it produces the linearly space number:-----------------#\n",
    "np.linspace(1,5,10)#linspace(start,end,how_many_numbers_to_print)\n",
    "#it prints the number between 1 to 5 and it prints 10 number"
   ]
  },
  {
   "cell_type": "code",
   "execution_count": 134,
   "metadata": {},
   "outputs": [
    {
     "data": {
      "text/plain": [
       "array([[1],\n",
       "       [2],\n",
       "       [3]])"
      ]
     },
     "execution_count": 134,
     "metadata": {},
     "output_type": "execute_result"
    }
   ],
   "source": [
    "#-------------reshaping the array:--------------#\n",
    "c=np.array([[1,2,3]])\n",
    "c.reshape(3,1)"
   ]
  },
  {
   "cell_type": "code",
   "execution_count": 183,
   "metadata": {},
   "outputs": [
    {
     "data": {
      "text/plain": [
       "2.581988897471611"
      ]
     },
     "execution_count": 183,
     "metadata": {},
     "output_type": "execute_result"
    }
   ],
   "source": [
    "#----------------math function:---------#\n",
    "d=np.array([[1,2,3],[4,5,6],[7,8,9]])\n",
    "d.min()\n",
    "d.max()\n",
    "d.sum()\n",
    "d.sum(axis=1)#->adding elemnst in the columns\n",
    "d.sum(axis=0)#->adding elemnst in the rows\n",
    "np.sqrt(d)#->squre root funaction\n",
    "np.std(d)#->standard deviation"
   ]
  },
  {
   "cell_type": "code",
   "execution_count": 186,
   "metadata": {},
   "outputs": [
    {
     "data": {
      "text/plain": [
       "array([[ 30,  36,  42],\n",
       "       [ 66,  81,  96],\n",
       "       [102, 126, 150]])"
      ]
     },
     "execution_count": 186,
     "metadata": {},
     "output_type": "execute_result"
    }
   ],
   "source": [
    "#-----------matrxi product:-------------#\n",
    "a.dot(d)#matrix product"
   ]
  },
  {
   "cell_type": "code",
   "execution_count": null,
   "metadata": {},
   "outputs": [],
   "source": [
    "#-------------------python list operation:---------------------------#\n",
    "p_list=[2,3,4]\n",
    "p_list[0:1]\n",
    "p_list[-1]#---starts from backside\n",
    "#---------------------Numpy array opreation:------------------#\n",
    "b=np.array([[1,2,3],[4,5,6],[7,8,9]])\n",
    "b\n",
    "a=np.array([4,5,6])\n",
    "a[-1]#->sum array opereation what we are doing in python list\n",
    "b[0:2,2]#->important\n",
    "b[0:2,2]#->important\n",
    "b[0:3,1:3]#->important\n",
    "\n",
    "for i in range(0,len(b)):\n",
    "    print(b[i][i])\n",
    "    \n",
    "for i in b[:]:\n",
    "    print(i)\n",
    "    \n",
    "for j in b[:]:\n",
    "    print(j)"
   ]
  },
  {
   "cell_type": "code",
   "execution_count": 392,
   "metadata": {},
   "outputs": [],
   "source": [
    "#------------------------Vertically and horizantaly stack the array:------------------#\n",
    "#->In the following fucntion np.vsatck and np.hstack \"array1(dimension)(shape)==array2(dimension)(shape)\"->\"FOR THE MOSTLY CASES\"\n",
    "c=np.array([[1,2,3],[4,5,6],[7,8,9]])\n",
    "d=np.array([[8,9,10],[11,12,13],[13,14,15]])\n",
    "np.vstack((c,d))\n",
    "np.hstack((c,d))"
   ]
  },
  {
   "cell_type": "code",
   "execution_count": 474,
   "metadata": {},
   "outputs": [],
   "source": [
    "c=np.arange(50).reshape(2,25)#reshape syantx-> reshape(column,row)"
   ]
  },
  {
   "cell_type": "code",
   "execution_count": 475,
   "metadata": {},
   "outputs": [],
   "source": [
    "#len(c[:,0])#->getting the len of one side "
   ]
  },
  {
   "cell_type": "code",
   "execution_count": 476,
   "metadata": {},
   "outputs": [
    {
     "data": {
      "text/plain": [
       "array([[ 0,  1,  2,  3,  4,  5,  6,  7,  8,  9, 10, 11, 12, 13, 14, 15,\n",
       "        16, 17, 18, 19, 20, 21, 22, 23, 24],\n",
       "       [25, 26, 27, 28, 29, 30, 31, 32, 33, 34, 35, 36, 37, 38, 39, 40,\n",
       "        41, 42, 43, 44, 45, 46, 47, 48, 49]])"
      ]
     },
     "execution_count": 476,
     "metadata": {},
     "output_type": "execute_result"
    }
   ],
   "source": [
    "c"
   ]
  },
  {
   "cell_type": "code",
   "execution_count": 479,
   "metadata": {},
   "outputs": [],
   "source": [
    "results=np.vsplit(c,2)"
   ]
  },
  {
   "cell_type": "code",
   "execution_count": 480,
   "metadata": {},
   "outputs": [
    {
     "data": {
      "text/plain": [
       "[array([[ 0,  1,  2,  3,  4,  5,  6,  7,  8,  9, 10, 11, 12, 13, 14, 15,\n",
       "         16, 17, 18, 19, 20, 21, 22, 23, 24]]),\n",
       " array([[25, 26, 27, 28, 29, 30, 31, 32, 33, 34, 35, 36, 37, 38, 39, 40,\n",
       "         41, 42, 43, 44, 45, 46, 47, 48, 49]])]"
      ]
     },
     "execution_count": 480,
     "metadata": {},
     "output_type": "execute_result"
    }
   ],
   "source": [
    "results"
   ]
  },
  {
   "cell_type": "code",
   "execution_count": 505,
   "metadata": {},
   "outputs": [
    {
     "data": {
      "text/plain": [
       "[array([[ 0,  1,  2,  3,  4,  5,  6,  7,  8,  9, 10, 11, 12, 13, 14, 15,\n",
       "         16, 17, 18, 19, 20, 21, 22, 23, 24]]),\n",
       " array([[25, 26, 27, 28, 29, 30, 31, 32, 33, 34, 35, 36, 37, 38, 39, 40,\n",
       "         41, 42, 43, 44, 45, 46, 47, 48, 49]])]"
      ]
     },
     "execution_count": 505,
     "metadata": {},
     "output_type": "execute_result"
    }
   ],
   "source": [
    "#-----------------Spliting the array by verticaly and horizantaly:----------------#\n",
    "#synatx->np.h/nsplit(array,(n)->the number to be provide for which how many array should be formed horizantaly by providing the limit)\n",
    "c=np.arange(30).reshape(2,15)\n",
    "r_1=np.hsplit(c,3)#-> the particualr function splits horizantaly by providing the number by how many rows should\n",
    "d=np.arange(50).reshape(2,25)\n",
    "r_2=np.vsplit(d,2)#-> the particualr function splits horizantaly by providing the number by how many rows should\n",
    "\n"
   ]
  },
  {
   "cell_type": "code",
   "execution_count": 511,
   "metadata": {},
   "outputs": [],
   "source": [
    "e=np.arange(12).reshape(4,3)"
   ]
  },
  {
   "cell_type": "code",
   "execution_count": 519,
   "metadata": {},
   "outputs": [
    {
     "data": {
      "text/plain": [
       "array([[ 0,  1,  2],\n",
       "       [ 3,  4,  5],\n",
       "       [ 6,  7,  8],\n",
       "       [ 9, 10, 11]])"
      ]
     },
     "execution_count": 519,
     "metadata": {},
     "output_type": "execute_result"
    }
   ],
   "source": [
    "e"
   ]
  },
  {
   "cell_type": "code",
   "execution_count": 525,
   "metadata": {},
   "outputs": [],
   "source": [
    "e[e>5]=0"
   ]
  },
  {
   "cell_type": "code",
   "execution_count": 531,
   "metadata": {},
   "outputs": [],
   "source": [
    "#---------Numpy data opreation:--------------------#\n",
    "e=np.arange(12).reshape(4,3)\n",
    "e[e>5]#genrating number from greater than 5 and directly genrating from e array\n",
    "e[e>5]=0#assiging the zero value \n"
   ]
  },
  {
   "cell_type": "code",
   "execution_count": null,
   "metadata": {},
   "outputs": [],
   "source": []
  }
 ],
 "metadata": {
  "kernelspec": {
   "display_name": "Python 3",
   "language": "python",
   "name": "python3"
  },
  "language_info": {
   "codemirror_mode": {
    "name": "ipython",
    "version": 3
   },
   "file_extension": ".py",
   "mimetype": "text/x-python",
   "name": "python",
   "nbconvert_exporter": "python",
   "pygments_lexer": "ipython3",
   "version": "3.7.6"
  }
 },
 "nbformat": 4,
 "nbformat_minor": 4
}
